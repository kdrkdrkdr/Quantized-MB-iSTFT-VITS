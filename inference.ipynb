{
 "cells": [
  {
   "cell_type": "code",
   "execution_count": null,
   "metadata": {},
   "outputs": [],
   "source": [
    "import torch\n",
    "import commons\n",
    "import utils\n",
    "from models import SynthesizerTrn\n",
    "from text.symbols import symbols\n",
    "from text import text_to_sequence\n",
    "import re\n",
    "from scipy.io.wavfile import write\n",
    "\n",
    "model_name = 'ljs'\n",
    "config_file = f\"./logs/{model_name}/config.json\"\n",
    "model_file = f\"./logs/{model_name}/G_10000.pth\"\n",
    "device = 'cpu' # cuda:0\n",
    "\n",
    "hps = utils.get_hparams_from_file(config_file)\n",
    "symbols = list(hps.symbols.pad + hps.symbols.punctuation + hps.symbols.letters + hps.symbols.letters_ipa)\n",
    "\n",
    "def get_text(text, hps):\n",
    "    text_norm = text_to_sequence(text, hps.data.text_cleaners)\n",
    "    if hps.data.add_blank:\n",
    "        text_norm = commons.intersperse(text_norm, 0)\n",
    "    text_norm = torch.LongTensor(text_norm)\n",
    "    return text_norm\n",
    "\n",
    "net_g = SynthesizerTrn(\n",
    "    len(symbols),\n",
    "    hps.data.filter_length // 2 + 1,\n",
    "    hps.train.segment_size // hps.data.hop_length,\n",
    "    **hps.model).to(device)\n",
    "_ = net_g.eval()\n",
    "_ = utils.load_checkpoint(model_file, net_g, None)\n",
    "\n",
    "\n",
    "text = 'hello my name is andrew'\n",
    "text = re.sub('[\\n]', '', text.strip())\n",
    "stn_tst = get_text(text, hps)\n",
    "with torch.no_grad():\n",
    "    x_tst = stn_tst.to(device).unsqueeze(0)\n",
    "    x_tst_lengths = torch.LongTensor([stn_tst.size(0)]).to(device)\n",
    "    audio = net_g.infer(x_tst, x_tst_lengths, noise_scale=.667, noise_scale_w=0.8, length_scale=1/1)[0][0,0].data.cpu().float().numpy()\n",
    "write(f'a.wav', hps.data.sampling_rate, audio)\n"
   ]
  }
 ],
 "metadata": {
  "kernelspec": {
   "display_name": "rvc",
   "language": "python",
   "name": "python3"
  },
  "language_info": {
   "codemirror_mode": {
    "name": "ipython",
    "version": 3
   },
   "file_extension": ".py",
   "mimetype": "text/x-python",
   "name": "python",
   "nbconvert_exporter": "python",
   "pygments_lexer": "ipython3",
   "version": "3.8.18"
  },
  "orig_nbformat": 4
 },
 "nbformat": 4,
 "nbformat_minor": 2
}
